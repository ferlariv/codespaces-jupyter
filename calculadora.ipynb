{
 "cells": [
  {
   "cell_type": "code",
   "execution_count": 2,
   "metadata": {},
   "outputs": [
    {
     "name": "stdout",
     "output_type": "stream",
     "text": [
      "dame un número\n",
      "dame otro número\n",
      "1. suma\n",
      "2. resta\n",
      "3. división\n",
      "4. multiplicacion\n",
      "selecciona el numero de la operacion que quieras\n",
      "6.0\n"
     ]
    }
   ],
   "source": [
    "N1=float(input(print(\"dame un número\")))\n",
    "N2=float(input(print(\"dame otro número\")))\n",
    "print(\"1. suma\")\n",
    "print(\"2. resta\")\n",
    "print(\"3. división\")\n",
    "print(\"4. multiplicacion\")\n",
    "calculo = float(input(print(\"selecciona el numero de la operacion que quieras\")))\n",
    "if calculo == 1:\n",
    "    resulatdo = N1 + N2\n",
    "    print (str(resulatdo))\n",
    "if calculo == 2:\n",
    "    resulatdo = N1 - N2\n",
    "    print (str(resultado))\n",
    "if calculo == 3:\n",
    "    resulatdo = N1 / N2\n",
    "    print (str(resulatdo))\n",
    "if calculo == 4:\n",
    "    resulatdo = N1 * N2\n",
    "    print (str(resulatdo))\n",
    "    "
   ]
  }
 ],
 "metadata": {
  "kernelspec": {
   "display_name": "Python 3",
   "language": "python",
   "name": "python3"
  },
  "language_info": {
   "codemirror_mode": {
    "name": "ipython",
    "version": 3
   },
   "file_extension": ".py",
   "mimetype": "text/x-python",
   "name": "python",
   "nbconvert_exporter": "python",
   "pygments_lexer": "ipython3",
   "version": "3.10.13"
  }
 },
 "nbformat": 4,
 "nbformat_minor": 2
}
